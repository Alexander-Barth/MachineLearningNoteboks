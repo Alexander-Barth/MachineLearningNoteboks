{
 "cells": [
  {
   "cell_type": "markdown",
   "metadata": {},
   "source": [
    "# Decision tree and random forest from scratch\n",
    "\n",
    "## Decision tree"
   ]
  },
  {
   "cell_type": "markdown",
   "metadata": {},
   "source": [
    "* A decision tree is hierarchical series of questions that will lead to different outcomes depending on the result of the questions\n",
    "\n",
    "<img src=\"Fig/tree2.svg\" width=200 >\n",
    "\n",
    "* In machine learning, the \"optimal\" questions are derived from a traning data set by recursively splitting the dataset into relative \"homogeneous\" subsets\n"
   ]
  },
  {
   "cell_type": "code",
   "execution_count": null,
   "metadata": {},
   "outputs": [],
   "source": []
  },
  {
   "cell_type": "code",
   "execution_count": 1,
   "metadata": {},
   "outputs": [],
   "source": [
    "using PyPlot"
   ]
  },
  {
   "cell_type": "markdown",
   "metadata": {},
   "source": [
    "* We use the example dataset from to classify Bank notes into true and fake bank notes available at http://archive.ics.uci.edu/ml/datasets/banknote+authentication\n",
    "* First download the datafile (if necessary) "
   ]
  },
  {
   "cell_type": "code",
   "execution_count": 2,
   "metadata": {},
   "outputs": [],
   "source": [
    "fname = \"data_banknote_authentication.txt\"\n",
    "\n",
    "if !isfile(fname)\n",
    "    download(\"http://archive.ics.uci.edu/ml/machine-learning-databases/00267/data_banknote_authentication.txt\",fname)\n",
    "end\n",
    "    \n"
   ]
  },
  {
   "cell_type": "markdown",
   "metadata": {},
   "source": [
    "Let's have a quite look at the first 3 rows"
   ]
  },
  {
   "cell_type": "code",
   "execution_count": 3,
   "metadata": {},
   "outputs": [
    {
     "data": {
      "text/plain": [
       "3-element Array{String,1}:\n",
       " \"3.6216,8.6661,-2.8073,-0.44699,0\"\n",
       " \"4.5459,8.1674,-2.4586,-1.4621,0\" \n",
       " \"3.866,-2.6383,1.9242,0.10645,0\"  "
      ]
     },
     "execution_count": 3,
     "metadata": {},
     "output_type": "execute_result"
    }
   ],
   "source": [
    "readlines(fname)[1:3]"
   ]
  },
  {
   "cell_type": "markdown",
   "metadata": {},
   "source": [
    "There is no header line and columns are separated by a comma"
   ]
  },
  {
   "cell_type": "code",
   "execution_count": 4,
   "metadata": {},
   "outputs": [],
   "source": [
    "data = readdlm(fname,',');"
   ]
  },
  {
   "cell_type": "markdown",
   "metadata": {},
   "source": [
    "The meaning of the columns:\n",
    "\n",
    "1. variance of Wavelet Transformed image (continuous)\n",
    "2. skewness of Wavelet Transformed image (continuous)\n",
    "3. curtosis of Wavelet Transformed image (continuous)\n",
    "4. entropy of image (continuous)\n",
    "5. class (integer)\n"
   ]
  },
  {
   "cell_type": "markdown",
   "metadata": {},
   "source": [
    "$$\\newcommand{\\vec}{\\mathbf}$$\n",
    "* For the $i$th sample, $\\vec x_i$ (`x[i,:]`) are the features and $y_i$ (`y[i]`) are the labels\n",
    "* We split data into training and evaluation dataset\n",
    "* `frac` denotes the fraction of the evaluation data set"
   ]
  },
  {
   "cell_type": "code",
   "execution_count": 54,
   "metadata": {},
   "outputs": [
    {
     "name": "stdout",
     "output_type": "stream",
     "text": [
      "length(y) = 1240\n",
      "length(yeval) = 132\n"
     ]
    },
    {
     "data": {
      "text/plain": [
       "132"
      ]
     },
     "execution_count": 54,
     "metadata": {},
     "output_type": "execute_result"
    }
   ],
   "source": [
    "srand(12345)\n",
    "\n",
    "frac = 0.1\n",
    "selecteval = rand(size(data,1)) .< frac\n",
    "x = data[.!selecteval,1:4]\n",
    "y = data[.!selecteval,5]\n",
    "@show length(y)\n",
    "\n",
    "xeval = data[selecteval,1:4]\n",
    "yeval = data[selecteval,5]\n",
    "@show length(yeval)"
   ]
  },
  {
   "cell_type": "markdown",
   "metadata": {},
   "source": [
    "As a test split the data according to feature 1 accoring the threshold equal to first sample"
   ]
  },
  {
   "cell_type": "code",
   "execution_count": 55,
   "metadata": {},
   "outputs": [
    {
     "data": {
      "text/plain": [
       "3.6216"
      ]
     },
     "execution_count": 55,
     "metadata": {},
     "output_type": "execute_result"
    }
   ],
   "source": [
    "ifeature = 1\n",
    "threshold  = x[1,ifeature]"
   ]
  },
  {
   "cell_type": "markdown",
   "metadata": {},
   "source": [
    "`splitflag` is true for the elements belong to subset 1 and false for elements belonging to subset 2"
   ]
  },
  {
   "cell_type": "code",
   "execution_count": 7,
   "metadata": {},
   "outputs": [],
   "source": [
    "splitflag = x[:,ifeature] .< threshold;"
   ]
  },
  {
   "cell_type": "code",
   "execution_count": 8,
   "metadata": {},
   "outputs": [
    {
     "data": {
      "text/plain": [
       "(1030, 210)"
      ]
     },
     "execution_count": 8,
     "metadata": {},
     "output_type": "execute_result"
    }
   ],
   "source": [
    "sum(splitflag), sum(.!splitflag)"
   ]
  },
  {
   "cell_type": "markdown",
   "metadata": {},
   "source": [
    "* A perfect question, whould split our dataset into two subsets where all labels in subset 1 would be 0 and all labels in subset 2 would 1. This would result in a perfectly homogenous or pure subset.\n",
    "* In CART (Classification and Regression Trees), we would use the Gini impurity index to quantify the degree of homegenity in classification problems"
   ]
  },
  {
   "cell_type": "markdown",
   "metadata": {},
   "source": [
    "## Gini impurity index\n",
    "\n",
    "* We mesure the heterogenity within the two subsets (where splitflag is true or false) using the Gini index for each  of these subsets\n",
    "\n",
    "* Gini impurity is a measure of how often a randomly chosen element from the set would be incorrectly labeled if it was randomly labeled according to the distribution of labels\n",
    "* So this mean:\n",
    "   * choose a random element form the set\n",
    "   * choose a random label from the set\n",
    "   * the Gini index is the probability that we choose the __incorrect__ label for the element \n",
    "\n",
    "* What is the probablity to pick a correct label = probaility to pick an element with the label 1 *and* a label 1 *or* to pick an element with the label 2 *and* a label 2 ...\n",
    "\n",
    "$$\\begin{eqnarray}\n",
    "P(\\mbox{pick a correct label}) &=&  \n",
    "\\mbox{probability to pick an element with the label 1 and a label 1} \\\\\n",
    "&& + \\mbox{probability to pick an element with the label 2 and a label 2} \\\\\n",
    "&& + \\mbox{probability to pick an element with the label 3 and a label 3} \\\\\n",
    "&& +... \\\\\n",
    "&=&\n",
    "P(\\mbox{pick an element with the label 1}) \\cdot {P(\\mbox{pick a label 1})} \\\\\n",
    "&& + P(\\mbox{pick an element with the label 2}) \\cdot {P(\\mbox{pick a label 2})} \\\\\n",
    "&& + ... \\\\ \n",
    "&=& \\sum_i p_i^2\n",
    "\\end{eqnarray}\n",
    "$$\n",
    "\n",
    "where $p_i$ is the probability to pick an element with the label $i$ which is infact equal to the probability to pick a label $i$.\n",
    "\n",
    "The Gini index is the probability to pick an *incorrect* label, therefore:\n",
    "\n",
    "$$\n",
    "I_g(p_i) = 1 - \\sum_i p_i^2\n",
    "$$\n"
   ]
  },
  {
   "cell_type": "code",
   "execution_count": 9,
   "metadata": {},
   "outputs": [
    {
     "name": "stdout",
     "output_type": "stream",
     "text": [
      "probability = [0.461165, 0.538835]\n"
     ]
    },
    {
     "data": {
      "text/plain": [
       "0.49698369309077195"
      ]
     },
     "execution_count": 9,
     "metadata": {},
     "output_type": "execute_result"
    }
   ],
   "source": [
    "y_subset = y[splitflag];\n",
    "classes = [0.,1.]\n",
    "probability = zeros(length(classes))\n",
    "for i = 1:length(classes)\n",
    "    probability[i] = sum(y_subset .== classes[i])/length(y_subset)\n",
    "end\n",
    "@show probability\n",
    "gini = 1 - sum(probability.^2)"
   ]
  },
  {
   "cell_type": "code",
   "execution_count": 10,
   "metadata": {},
   "outputs": [
    {
     "data": {
      "text/plain": [
       "giniimpurity (generic function with 1 method)"
      ]
     },
     "execution_count": 10,
     "metadata": {},
     "output_type": "execute_result"
    }
   ],
   "source": [
    "function giniimpurity(y_subset,classes)\n",
    "    gini_index = 1.\n",
    "    probability = zeros(length(classes))\n",
    "\n",
    "    for i = 1:length(classes)\n",
    "       probability[i] = sum(y_subset .== classes[i])/length(y_subset)\n",
    "    end\n",
    "    gini = 1 - sum(probability.^2) \n",
    "    return gini\n",
    "end"
   ]
  },
  {
   "cell_type": "markdown",
   "metadata": {},
   "source": [
    "For a completetly homogenous dataset the impurity is zero:"
   ]
  },
  {
   "cell_type": "code",
   "execution_count": 11,
   "metadata": {},
   "outputs": [
    {
     "data": {
      "text/plain": [
       "0.0"
      ]
     },
     "execution_count": 11,
     "metadata": {},
     "output_type": "execute_result"
    }
   ],
   "source": [
    "giniimpurity([1,1,1,1,1,1],classes)"
   ]
  },
  {
   "cell_type": "markdown",
   "metadata": {},
   "source": [
    "If there are as many zeros than ones, the probability to pick a random incorrect label is 0.5:"
   ]
  },
  {
   "cell_type": "code",
   "execution_count": 12,
   "metadata": {},
   "outputs": [
    {
     "data": {
      "text/plain": [
       "0.5"
      ]
     },
     "execution_count": 12,
     "metadata": {},
     "output_type": "execute_result"
    }
   ],
   "source": [
    "giniimpurity([1,1,1,0,0,0],classes)"
   ]
  },
  {
   "cell_type": "code",
   "execution_count": 13,
   "metadata": {},
   "outputs": [
    {
     "data": {
      "text/plain": [
       "0.49698369309077195"
      ]
     },
     "execution_count": 13,
     "metadata": {},
     "output_type": "execute_result"
    }
   ],
   "source": [
    "giniimpurity(y[splitflag],classes)"
   ]
  },
  {
   "cell_type": "markdown",
   "metadata": {},
   "source": [
    "The average Gini impurity is the mean Gini impurity of each class weighted by the total fraction of each class  "
   ]
  },
  {
   "cell_type": "code",
   "execution_count": 14,
   "metadata": {},
   "outputs": [
    {
     "ename": "LoadError",
     "evalue": "\u001b[91mUndefVarError: Na not defined\u001b[39m",
     "output_type": "error",
     "traceback": [
      "\u001b[91mUndefVarError: Na not defined\u001b[39m",
      "",
      "Stacktrace:",
      " [1] \u001b[1minclude_string\u001b[22m\u001b[22m\u001b[1m(\u001b[22m\u001b[22m::String, ::String\u001b[1m)\u001b[22m\u001b[22m at \u001b[1m./loading.jl:522\u001b[22m\u001b[22m"
     ]
    }
   ],
   "source": [
    "N = length(y)\n",
    "N1 = sum(splitflag)\n",
    "N2 = length(y)-N1\n",
    "giniimpurity(y[splitflag],classes)*N1/N  + giniimpurity(y[.!splitflag],classes)*N2/Na"
   ]
  },
  {
   "cell_type": "markdown",
   "metadata": {},
   "source": [
    "Average Gini index is minimized"
   ]
  },
  {
   "cell_type": "code",
   "execution_count": 15,
   "metadata": {},
   "outputs": [
    {
     "data": {
      "text/plain": [
       "fitness (generic function with 1 method)"
      ]
     },
     "execution_count": 15,
     "metadata": {},
     "output_type": "execute_result"
    }
   ],
   "source": [
    "function fitness(x,y,classes,ifeature,threshold)\n",
    "    splitflag = x[:,ifeature] .< threshold;\n",
    "    \n",
    "    N = length(y)\n",
    "    N1 = sum(splitflag)\n",
    "    N2 = length(y)-N1\n",
    "    return giniimpurity(y[splitflag],classes)*N1/N + giniimpurity(y[.!splitflag],classes)*N2/N  \n",
    "end"
   ]
  },
  {
   "cell_type": "code",
   "execution_count": 16,
   "metadata": {},
   "outputs": [
    {
     "data": {
      "text/plain": [
       "0.4128170999060444"
      ]
     },
     "execution_count": 16,
     "metadata": {},
     "output_type": "execute_result"
    }
   ],
   "source": [
    "fitness(x,y,classes,ifeature,threshold)"
   ]
  },
  {
   "cell_type": "code",
   "execution_count": 17,
   "metadata": {},
   "outputs": [],
   "source": [
    "thresholds = sort(x[:,ifeature])\n",
    "\n",
    "fitness1 = [fitness(x,y,classes,ifeature,threshold) for threshold in thresholds];"
   ]
  },
  {
   "cell_type": "markdown",
   "metadata": {},
   "source": [
    "Average Gini index for different values of the threshold"
   ]
  },
  {
   "cell_type": "code",
   "execution_count": 18,
   "metadata": {},
   "outputs": [
    {
     "data": {
      "image/png": "[encoded data removed]",
      "text/plain": [
       "PyPlot.Figure(PyObject <matplotlib.figure.Figure object at 0x7f35f9183710>)"
      ]
     },
     "metadata": {},
     "output_type": "display_data"
    },
    {
     "data": {
      "text/plain": [
       "1-element Array{PyCall.PyObject,1}:\n",
       " PyObject <matplotlib.lines.Line2D object at 0x7f35f354e550>"
      ]
     },
     "execution_count": 18,
     "metadata": {},
     "output_type": "execute_result"
    }
   ],
   "source": [
    "plot(thresholds,fitness1)"
   ]
  },
  {
   "cell_type": "code",
   "execution_count": 19,
   "metadata": {},
   "outputs": [
    {
     "data": {
      "text/plain": [
       "(0.3223, 0.23838434398515596)"
      ]
     },
     "execution_count": 19,
     "metadata": {},
     "output_type": "execute_result"
    }
   ],
   "source": [
    "function bestthreshold(x,y,classes,ifeature)\n",
    "    lowestavgGiniIndex = Inf\n",
    "    threshold = 0.\n",
    "    for i = 1:length(y)\n",
    "        avgGiniIndex = fitness(x,y,classes,ifeature,x[i,ifeature])\n",
    "        if avgGiniIndex < lowestavgGiniIndex\n",
    "            # found a better threshold\n",
    "            threshold = x[i,ifeature]\n",
    "            lowestavgGiniIndex = avgGiniIndex\n",
    "        end\n",
    "        \n",
    "    end\n",
    "    return threshold,lowestavgGiniIndex\n",
    "end\n",
    "\n",
    "threshold,lowestavgGiniIndex = bestthreshold(x,y,classes,ifeature)"
   ]
  },
  {
   "cell_type": "markdown",
   "metadata": {},
   "source": [
    "The optimal threshold value for feature 1"
   ]
  },
  {
   "cell_type": "code",
   "execution_count": 20,
   "metadata": {},
   "outputs": [
    {
     "data": {
      "image/png": "[encoded data removed]",
      "text/plain": [
       "PyPlot.Figure(PyObject <matplotlib.figure.Figure object at 0x7f361c794fd0>)"
      ]
     },
     "metadata": {},
     "output_type": "display_data"
    },
    {
     "data": {
      "text/plain": [
       "1-element Array{PyCall.PyObject,1}:\n",
       " PyObject <matplotlib.lines.Line2D object at 0x7f361c712590>"
      ]
     },
     "execution_count": 20,
     "metadata": {},
     "output_type": "execute_result"
    }
   ],
   "source": [
    "plot(thresholds,fitness1)\n",
    "plot([threshold],[lowestavgGiniIndex],\"ro\")"
   ]
  },
  {
   "cell_type": "markdown",
   "metadata": {},
   "source": [
    "Among all features, determine which ones lead to the lowest average Gini impurity"
   ]
  },
  {
   "cell_type": "code",
   "execution_count": 21,
   "metadata": {},
   "outputs": [
    {
     "data": {
      "text/plain": [
       "4-element Array{Tuple{Float64,Float64},1}:\n",
       " (0.3223, 0.238384)\n",
       " (5.1815, 0.374915)\n",
       " (8.7086, 0.446166)\n",
       " (1.6168, 0.489778)"
      ]
     },
     "execution_count": 21,
     "metadata": {},
     "output_type": "execute_result"
    }
   ],
   "source": [
    "[bestthreshold(x,y,classes,ifeature) for ifeature = 1:size(x,2)]"
   ]
  },
  {
   "cell_type": "markdown",
   "metadata": {},
   "source": [
    "Indeed the best split was obtained for feature 1"
   ]
  },
  {
   "cell_type": "code",
   "execution_count": 22,
   "metadata": {},
   "outputs": [
    {
     "data": {
      "text/plain": [
       "(1, 0.3223, 0.23838434398515596)"
      ]
     },
     "execution_count": 22,
     "metadata": {},
     "output_type": "execute_result"
    }
   ],
   "source": [
    "function bestfeature(x,y,classes)\n",
    "    ifeature = 0\n",
    "    lowestavgGiniIndex = Inf\n",
    "    threshold = 0.\n",
    "    \n",
    "    for j = 1:size(x,2)\n",
    "        thresholdj,avgGiniIndex = bestthreshold(x,y,classes,j)\n",
    "        if avgGiniIndex < lowestavgGiniIndex\n",
    "            # found a better feature\n",
    "            threshold = thresholdj\n",
    "            lowestavgGiniIndex = avgGiniIndex\n",
    "            ifeature = j\n",
    "        end\n",
    "    end\n",
    "    return ifeature,threshold,lowestavgGiniIndex\n",
    "end\n",
    "\n",
    "ifeature,threshold,lowestavgGiniIndex = bestfeature(x,y,classes)"
   ]
  },
  {
   "cell_type": "code",
   "execution_count": 23,
   "metadata": {},
   "outputs": [
    {
     "data": {
      "text/plain": [
       "2"
      ]
     },
     "execution_count": 23,
     "metadata": {},
     "output_type": "execute_result"
    }
   ],
   "source": [
    "# from https://github.com/JuliaStats/StatsBase.jl\n",
    "# StatsBase.jl is licensed under the MIT License\n",
    "\n",
    "function mode(a::AbstractArray{T}) where T\n",
    "    isempty(a) && error(\"mode: input array cannot be empty.\")\n",
    "    cnts = Dict{T,Int}()\n",
    "    # first element\n",
    "    mc = 1\n",
    "    mv = a[1]\n",
    "    cnts[mv] = 1\n",
    "    # find the mode along with table construction\n",
    "    for i = 2 : length(a)\n",
    "        @inbounds x = a[i]\n",
    "        if haskey(cnts, x)\n",
    "            c = (cnts[x] += 1)\n",
    "            if c > mc\n",
    "                mc = c\n",
    "                mv = x\n",
    "            end\n",
    "        else\n",
    "            cnts[x] = 1\n",
    "            # in this case: c = 1, and thus c > mc won't happen\n",
    "        end\n",
    "    end\n",
    "    return mv\n",
    "end\n",
    "\n",
    "mode([1,2,3,2])"
   ]
  },
  {
   "cell_type": "code",
   "execution_count": 24,
   "metadata": {},
   "outputs": [],
   "source": [
    "type Decision\n",
    "    value :: Float64\n",
    "end\n",
    "\n",
    "type Question\n",
    "    ifeature :: Int\n",
    "    threshold :: Float64\n",
    "    next :: Vector{Union{Decision,Question}}\n",
    "end"
   ]
  },
  {
   "cell_type": "code",
   "execution_count": 25,
   "metadata": {},
   "outputs": [
    {
     "data": {
      "text/plain": [
       "split (generic function with 2 methods)"
      ]
     },
     "execution_count": 25,
     "metadata": {},
     "output_type": "execute_result"
    }
   ],
   "source": [
    "function split(x,y,classes,minsize,maxdepth,depth = 0)   \n",
    "    # return early if the tree receases maximim depth or the \n",
    "    # minimum size\n",
    "    if (depth == maxdepth) || (length(y) <= minsize)\n",
    "        return Decision(mode(y))\n",
    "    end\n",
    "    \n",
    "    # return early if all elements are the same\n",
    "    if length(Set(y)) == 1\n",
    "        return Decision(y[1])\n",
    "    end\n",
    "    \n",
    "    \n",
    "    ifeature,threshold,lowestavgGiniIndex = bestfeature(x,y,classes)\n",
    "    #@show ifeature\n",
    "    splitflag = x[:,ifeature] .< threshold;\n",
    "    \n",
    "    next = [\n",
    "        split(x[splitflag,:],y[splitflag],classes,minsize,maxdepth,depth+1),\n",
    "        split(x[.!splitflag,:],y[.!splitflag],classes,minsize,maxdepth,depth+1)        \n",
    "    ]\n",
    "    \n",
    "    return Question(ifeature,threshold,next)\n",
    "end"
   ]
  },
  {
   "cell_type": "markdown",
   "metadata": {},
   "source": [
    "Some functions to display a decision tree"
   ]
  },
  {
   "cell_type": "code",
   "execution_count": 26,
   "metadata": {},
   "outputs": [],
   "source": [
    "function Base.show(io::IO,d::Decision) \n",
    "    indent = get(io, :indent, 0)\n",
    "    print_with_color(:green,io,\" \" ^ indent,\"Decision: $(d.value)\\n\")\n",
    "end\n",
    "function Base.show(io::IO,q::Question)\n",
    "    indent = get(io, :indent, 0)\n",
    "    blank = \" \" ^ indent\n",
    "    println(io,blank,\"if feature $(q.ifeature) < $(q.threshold)\")\n",
    "    \n",
    "    io2 = IOContext(io,indent=indent+2)\n",
    "    show(io2,q.next[1])\n",
    "    println(io,blank,\"else\")\n",
    "    show(io2,q.next[2])\n",
    "    println(io,blank,\"end\")\n",
    "end"
   ]
  },
  {
   "cell_type": "markdown",
   "metadata": {},
   "source": [
    "Build a decision tree with a maximum depth of 30"
   ]
  },
  {
   "cell_type": "code",
   "execution_count": 53,
   "metadata": {},
   "outputs": [
    {
     "data": {
      "text/plain": [
       "if feature 1 < 0.3223\n",
       "  if feature 2 < 7.6274\n",
       "\u001b[32m    Decision: 1.0\n",
       "\u001b[39m  else\n",
       "\u001b[32m    Decision: 0.0\n",
       "\u001b[39m  end\n",
       "else\n",
       "  if feature 3 < -4.3839\n",
       "\u001b[32m    Decision: 1.0\n",
       "\u001b[39m  else\n",
       "\u001b[32m    Decision: 0.0\n",
       "\u001b[39m  end\n",
       "end\n"
      ]
     },
     "execution_count": 53,
     "metadata": {},
     "output_type": "execute_result"
    }
   ],
   "source": [
    "maxdepth = 2\n",
    "minsize = 1\n",
    "tree = split(x,y,classes,minsize,maxdepth)"
   ]
  },
  {
   "cell_type": "code",
   "execution_count": 28,
   "metadata": {},
   "outputs": [
    {
     "data": {
      "text/plain": [
       "predict (generic function with 2 methods)"
      ]
     },
     "execution_count": 28,
     "metadata": {},
     "output_type": "execute_result"
    }
   ],
   "source": [
    "predict(d::Decision,xi) = d.value\n",
    "\n",
    "function predict(q::Question,xi)\n",
    "   if xi[q.ifeature] < q.threshold\n",
    "        return predict(q.next[1],xi)\n",
    "    else\n",
    "        return predict(q.next[2],xi)\n",
    "    end\n",
    "end\n",
    "\n"
   ]
  },
  {
   "cell_type": "markdown",
   "metadata": {},
   "source": [
    "Validate the tree with the independent validation data set"
   ]
  },
  {
   "cell_type": "code",
   "execution_count": 29,
   "metadata": {},
   "outputs": [
    {
     "name": "stdout",
     "output_type": "stream",
     "text": [
      "Percentage of correct predictions (for evaluation dataset): 97.72727272727273 %\n"
     ]
    }
   ],
   "source": [
    "function ncorrect(tree,xeval,yeval)\n",
    "   N = 0\n",
    "   for i in 1:length(yeval)\n",
    "     if predict(tree,xeval[i,:]) == yeval[i]\n",
    "        N = N+1\n",
    "     end\n",
    "   end\n",
    "  return N\n",
    "end\n",
    "\n",
    "percentcorrect = 100.*ncorrect(tree,xeval,yeval)/length(yeval)\n",
    "println(\"Percentage of correct predictions (for evaluation dataset): $(percentcorrect) %\")\n",
    "\n"
   ]
  },
  {
   "cell_type": "code",
   "execution_count": 38,
   "metadata": {},
   "outputs": [
    {
     "data": {
      "text/plain": [
       "79.54545454545455"
      ]
     },
     "execution_count": 38,
     "metadata": {},
     "output_type": "execute_result"
    }
   ],
   "source": [
    "    tree = split(x,y,classes,1000,10)\n",
    " 100.*ncorrect(tree,xeval,yeval)/length(yeval)\n"
   ]
  },
  {
   "cell_type": "code",
   "execution_count": 30,
   "metadata": {},
   "outputs": [],
   "source": [
    "maxdepths = 1:10\n",
    "minsize = 1\n",
    "percentcorrect = zeros(length(maxdepths))\n",
    "for i = 1:length(maxdepths)\n",
    "    tree = split(x,y,classes,minsize,maxdepths[i])\n",
    "    percentcorrect[i] = 100.*ncorrect(tree,xeval,yeval)/length(yeval)\n",
    "end"
   ]
  },
  {
   "cell_type": "code",
   "execution_count": 31,
   "metadata": {},
   "outputs": [
    {
     "data": {
      "image/png": "[encoded data removed]",
      "text/plain": [
       "PyPlot.Figure(PyObject <matplotlib.figure.Figure object at 0x7f361c779410>)"
      ]
     },
     "metadata": {},
     "output_type": "display_data"
    }
   ],
   "source": [
    "plot(maxdepths,percentcorrect)\n",
    "xlabel(\"Maxmum depth of tree\")\n",
    "ylabel(\"Percentage of correct predictions\")\n",
    "title(\"Percentage of correct predictions forevaluation dataset\");"
   ]
  },
  {
   "cell_type": "code",
   "execution_count": 45,
   "metadata": {},
   "outputs": [],
   "source": [
    "maxdepths = 1:10\n",
    "minsizes = 1:20:81\n",
    "percentcorrect = zeros(length(maxdepths),length(minsizes))\n",
    "for i = 1:length(maxdepths)\n",
    "for j = 1:length(minsizes)\n",
    "    tree = split(x,y,classes,minsizes[j],maxdepths[i])\n",
    "    percentcorrect[i,j] = 100.*ncorrect(tree,xeval,yeval)/length(yeval)\n",
    "end\n",
    "end"
   ]
  },
  {
   "cell_type": "code",
   "execution_count": null,
   "metadata": {},
   "outputs": [],
   "source": []
  },
  {
   "cell_type": "code",
   "execution_count": 46,
   "metadata": {},
   "outputs": [
    {
     "data": {
      "text/plain": [
       "5-element Array{Float64,1}:\n",
       " 97.7273\n",
       " 97.7273\n",
       " 93.9394\n",
       " 93.9394\n",
       " 90.9091"
      ]
     },
     "execution_count": 46,
     "metadata": {},
     "output_type": "execute_result"
    }
   ],
   "source": [
    "percentcorrect[end,:]"
   ]
  },
  {
   "cell_type": "code",
   "execution_count": 48,
   "metadata": {},
   "outputs": [
    {
     "data": {
      "image/png": "[encoded data removed]",
      "text/plain": [
       "PyPlot.Figure(PyObject <matplotlib.figure.Figure object at 0x7f35f3101090>)"
      ]
     },
     "metadata": {},
     "output_type": "display_data"
    }
   ],
   "source": [
    "pcolor(maxdepths,minsizes,percentcorrect')\n",
    "colorbar()\n",
    "xlabel(\"Maxmum depth of tree\")\n",
    "ylabel(\"Minium size of leaves\")\n",
    "title(\"Percentage of correct predictions forevaluation dataset\");"
   ]
  },
  {
   "cell_type": "markdown",
   "metadata": {},
   "source": [
    "* Performance does not degrate when maximum tree depth is increased for this case"
   ]
  },
  {
   "cell_type": "markdown",
   "metadata": {},
   "source": [
    "* Regression trees -> replace Gini impurity by variance and the mode by the mean\n",
    "* Random forest:\n",
    "   * Split dataset into several so called _bags_\n",
    "   * Derive a decision tree for each bag\n",
    "   * For prediction, apply all trees to the feature vector and the final answer is the mode (for classification) or mean (for regression) for the answers of all trees"
   ]
  },
  {
   "cell_type": "markdown",
   "metadata": {},
   "source": [
    "## References\n",
    "\n",
    "\n",
    "* Dua, Dheeru and Karra Taniskidou, E. (2017). UCI Machine Learning Repository [http://archive.ics.uci.edu/ml]. Irvine, CA: University of California, School of Information and Computer Science.\n",
    "\n",
    "*  How To Implement The Decision Tree Algorithm From Scratch In Python\n",
    "By Jason Brownlee on November 9, 2016 https://machinelearningmastery.com/implement-decision-tree-algorithm-scratch-python/\n"
   ]
  }
 ],
 "metadata": {
  "kernelspec": {
   "display_name": "Julia 0.6.2",
   "language": "julia",
   "name": "julia-0.6"
  },
  "language_info": {
   "file_extension": ".jl",
   "mimetype": "application/julia",
   "name": "julia",
   "version": "0.6.2"
  }
 },
 "nbformat": 4,
 "nbformat_minor": 2
}
